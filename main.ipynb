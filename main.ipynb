{
 "cells": [
  {
   "cell_type": "code",
   "execution_count": 3,
   "id": "1ef52174-23c9-4bab-a5ea-2c7b770f2235",
   "metadata": {},
   "outputs": [],
   "source": [
    "from kokoro import KPipeline\n",
    "from IPython.display import display, Audio\n",
    "import soundfile as sf\n",
    "from tqdm import tqdm\n",
    "from utils import *"
   ]
  },
  {
   "cell_type": "code",
   "execution_count": 4,
   "id": "49ed7fa6-ef8c-41ad-a1f3-5e2716961161",
   "metadata": {
    "scrolled": true
   },
   "outputs": [
    {
     "name": "stdin",
     "output_type": "stream",
     "text": [
      "Title: (sample) C. G. Jung On Psychic Energy\n",
      "Text: [1]  The concept of libido which I have advanced2 has met with many misunderstandings and, in some quarters, complete repudiation; it may therefore not be amiss if I examine once more the bases of this concept. [2]  It is a generally recognized truth that physical events can be looked at in two ways: from the mechanistic and from the energic standpoint.3 The mechanistic view is purely causal; it conceives an event as the effect of a cause, in the sense that unchanging substances change their relations to one another according to fixed laws. [3]  The energic point of view on the other hand is in essence final;4 the event is traced back from effect to cause on the assumption that some kind of energy underlies the changes in phenomena, that it maintains itself as a constant throughout these changes and finally leads to entropy, a condition of general equilibrium. The flow of energy has a definite direction (goal) in that it follows the gradient of potential in a way that cannot be reversed. The idea of energy is not that of a substance moved in space; it is a concept abstracted from relations of movement. The concept, therefore, is founded not on the substances themselves but on their relations, whereas the moving substance itself is the basis of the mechanistic view.\n"
     ]
    }
   ],
   "source": [
    "title = input(\"Title:\")\n",
    "text = input(\"Text:\")"
   ]
  },
  {
   "cell_type": "code",
   "execution_count": 6,
   "id": "a81b21f6-14e7-4343-9ad9-7aac400da2ea",
   "metadata": {
    "scrolled": true
   },
   "outputs": [
    {
     "name": "stdout",
     "output_type": "stream",
     "text": [
      "WARNING: Defaulting repo_id to hexgrad/Kokoro-82M. Pass repo_id='hexgrad/Kokoro-82M' to suppress this warning.\n"
     ]
    },
    {
     "name": "stderr",
     "output_type": "stream",
     "text": [
      "Generating: 100%|█████████████████████████████████████████████████| 7/7 [00:02<00:00,  2.90it/s]\n",
      "ffmpeg version 4.4.2-0ubuntu0.22.04.1 Copyright (c) 2000-2021 the FFmpeg developers\n",
      "  built with gcc 11 (Ubuntu 11.2.0-19ubuntu1)\n",
      "  configuration: --prefix=/usr --extra-version=0ubuntu0.22.04.1 --toolchain=hardened --libdir=/usr/lib/x86_64-linux-gnu --incdir=/usr/include/x86_64-linux-gnu --arch=amd64 --enable-gpl --disable-stripping --enable-gnutls --enable-ladspa --enable-libaom --enable-libass --enable-libbluray --enable-libbs2b --enable-libcaca --enable-libcdio --enable-libcodec2 --enable-libdav1d --enable-libflite --enable-libfontconfig --enable-libfreetype --enable-libfribidi --enable-libgme --enable-libgsm --enable-libjack --enable-libmp3lame --enable-libmysofa --enable-libopenjpeg --enable-libopenmpt --enable-libopus --enable-libpulse --enable-librabbitmq --enable-librubberband --enable-libshine --enable-libsnappy --enable-libsoxr --enable-libspeex --enable-libsrt --enable-libssh --enable-libtheora --enable-libtwolame --enable-libvidstab --enable-libvorbis --enable-libvpx --enable-libwebp --enable-libx265 --enable-libxml2 --enable-libxvid --enable-libzimg --enable-libzmq --enable-libzvbi --enable-lv2 --enable-omx --enable-openal --enable-opencl --enable-opengl --enable-sdl2 --enable-pocketsphinx --enable-librsvg --enable-libmfx --enable-libdc1394 --enable-libdrm --enable-libiec61883 --enable-chromaprint --enable-frei0r --enable-libx264 --enable-shared\n",
      "  libavutil      56. 70.100 / 56. 70.100\n",
      "  libavcodec     58.134.100 / 58.134.100\n",
      "  libavformat    58. 76.100 / 58. 76.100\n",
      "  libavdevice    58. 13.100 / 58. 13.100\n",
      "  libavfilter     7.110.100 /  7.110.100\n",
      "  libswscale      5.  9.100 /  5.  9.100\n",
      "  libswresample   3.  9.100 /  3.  9.100\n",
      "  libpostproc    55.  9.100 / 55.  9.100\n",
      "Guessed Channel Layout for Input Stream #0.0 : mono\n",
      "Input #0, concat, from '(sample) C. G. Jung On Psychic Energy/concat_list.txt':\n",
      "  Duration: N/A, start: 0.000000, bitrate: 384 kb/s\n",
      "  Stream #0:0: Audio: pcm_s16le ([1][0][0][0] / 0x0001), 24000 Hz, mono, s16, 384 kb/s\n",
      "Output #0, wav, to '(sample) C. G. Jung On Psychic Energy.wav':\n",
      "  Metadata:\n",
      "    ISFT            : Lavf58.76.100\n",
      "  Stream #0:0: Audio: pcm_s16le ([1][0][0][0] / 0x0001), 24000 Hz, mono, s16, 384 kb/s\n",
      "Stream mapping:\n",
      "  Stream #0:0 -> #0:0 (copy)\n",
      "Press [q] to stop, [?] for help\n",
      "size=    4191kB time=00:01:29.34 bitrate= 384.2kbits/s speed=2.02e+03x    \n",
      "video:0kB audio:4191kB subtitle:0kB other streams:0kB global headers:0kB muxing overhead: 0.001818%\n"
     ]
    }
   ],
   "source": [
    "# For specific configurations, please modify the source code in utils.py\n",
    "sents = preprocess_text_en(text) # For Enlgish text\n",
    "# sents = preprocess_text_cn(text) # For Chinese text\n",
    "\n",
    "# Initialize the model\n",
    "# For language, voices and more information, see https://huggingface.co/hexgrad/Kokoro-82M\n",
    "pipeline = KPipeline(lang_code='a', device=\"cuda\")\n",
    "generator = pipeline(\n",
    "    sents, voice='am_michael', # <= change voice here\n",
    "    speed=1\n",
    ")\n",
    "\n",
    "# Generate audio\n",
    "clean_directory(title)\n",
    "os.mkdir(title)\n",
    "with tqdm(enumerate(generator), total=len(sents), desc=\"Generating\") as pbar:\n",
    "    for i, (gs, ps, audio) in pbar:\n",
    "        sf.write(f'{title}/{i}.wav', audio, 24000) # save each audio file\n",
    "\n",
    "concat_audios(title, title)\n",
    "clean_directory(title)"
   ]
  },
  {
   "cell_type": "code",
   "execution_count": null,
   "id": "9a20e6ca-ea03-451c-912e-216d3e6fe7b5",
   "metadata": {},
   "outputs": [],
   "source": []
  }
 ],
 "metadata": {
  "kernelspec": {
   "display_name": "Python 3 (ipykernel)",
   "language": "python",
   "name": "python3"
  },
  "language_info": {
   "codemirror_mode": {
    "name": "ipython",
    "version": 3
   },
   "file_extension": ".py",
   "mimetype": "text/x-python",
   "name": "python",
   "nbconvert_exporter": "python",
   "pygments_lexer": "ipython3",
   "version": "3.10.12"
  }
 },
 "nbformat": 4,
 "nbformat_minor": 5
}
